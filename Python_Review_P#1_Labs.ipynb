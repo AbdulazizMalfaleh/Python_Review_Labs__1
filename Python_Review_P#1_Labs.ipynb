{
 "cells": [
  {
   "cell_type": "markdown",
   "id": "b97dc926",
   "metadata": {},
   "source": [
    "## Lab1-Variables\n",
    "- Define a variable that has a value of your favourite season.\n",
    "- Define “x“ variable has an integer value and variable “y” has a float value.\n",
    "- Assign One Value to Multiple Variables.\n",
    "- Assign Many Values to Multiple Variables."
   ]
  },
  {
   "cell_type": "code",
   "execution_count": null,
   "id": "8d2579eb",
   "metadata": {},
   "outputs": [],
   "source": [
    "1-a=winter \n",
    "2-x=7\n",
    "2-y=2.05\n",
    "3-a=b=c=1\n",
    "4-a,b,c=1,2,3"
   ]
  },
  {
   "cell_type": "markdown",
   "id": "e6d060b4",
   "metadata": {},
   "source": [
    "## Lab2-Conditions\n",
    "\n",
    "### You want to recommend a movie to a friend based on the rating and popularity. To accomplish this do the following: \n",
    "\n",
    "- Create a variable for the movie (choose any movie you like).\n",
    "- Create a variable of type int to hold the rating of the movie out of 5. Give this movie rate = 3\n",
    "- Create a popularity score of type float, let it be 72.65\n",
    "- Using an if statement:\n",
    " - Check if the movie rating is 4 or greater and the popularity is greater than 80, print \"Highly recommended\".\n",
    " - Else if the movie rating is 3 or greater and the popularity is greater than 70, print \"I recommended it, It is good\".\n",
    " - Else if the movie rating is 2 or less and the popularity is greater than 60, print \"You should check it out!\".\n",
    " - Else the movie rating is 2 or less and the popularity is less than 50, print \"Don't watch it, It is a waste of time\"."
   ]
  },
  {
   "cell_type": "code",
   "execution_count": null,
   "id": "b41b0f4b",
   "metadata": {},
   "outputs": [],
   "source": [
    "1-movie=\"the good father\"\n",
    "2-movie_rate=3 \n",
    "3-popularity=72.65\n",
    "4-if movie_rate >= 4 and popularity > 80:\n",
    "    print(\"Highly recommended\")\n",
    "5-elif movie_rate >= 3 and popularity > 70:\n",
    "    print(\"I recommend it, it is good\")\n",
    "6-elif movie_rate <= 2 and popularity > 60:\n",
    "    print(\"You should check it out!\")\n",
    "7-elif movie_rate <= 2 and popularity < 50:\n",
    "    print(\"Don't watch it, it is a waste of time\")"
   ]
  }
 ],
 "metadata": {
  "kernelspec": {
   "display_name": "Python 3 (ipykernel)",
   "language": "python",
   "name": "python3"
  },
  "language_info": {
   "codemirror_mode": {
    "name": "ipython",
    "version": 3
   },
   "file_extension": ".py",
   "mimetype": "text/x-python",
   "name": "python",
   "nbconvert_exporter": "python",
   "pygments_lexer": "ipython3",
   "version": "3.11.7"
  }
 },
 "nbformat": 4,
 "nbformat_minor": 5
}
